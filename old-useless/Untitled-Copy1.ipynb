{
 "cells": [
  {
   "cell_type": "code",
   "execution_count": 1,
   "metadata": {
    "collapsed": false
   },
   "outputs": [
    {
     "name": "stdout",
     "output_type": "stream",
     "text": [
      "404.md          LICENSE         Untitled.ipynb  _config.yml~    \u001b[34m_layouts\u001b[m\u001b[m/       \u001b[34m_sass\u001b[m\u001b[m/          feed.xml        index.html\r\n",
      "CNAME           README.md       _config.yml     \u001b[34m_includes\u001b[m\u001b[m/      \u001b[34m_posts\u001b[m\u001b[m/         about.md        \u001b[34mimages\u001b[m\u001b[m/         \u001b[31mstyle.scss\u001b[m\u001b[m*\r\n"
     ]
    }
   ],
   "source": [
    "ls"
   ]
  },
  {
   "cell_type": "code",
   "execution_count": 2,
   "metadata": {
    "collapsed": false
   },
   "outputs": [
    {
     "name": "stdout",
     "output_type": "stream",
     "text": [
      "404.md         LICENSE        Untitled.ipynb _config.yml~   \u001b[34m_layouts\u001b[m\u001b[m       \u001b[34m_sass\u001b[m\u001b[m          feed.xml       index.html\r\n",
      "CNAME          README.md      _config.yml    \u001b[34m_includes\u001b[m\u001b[m      \u001b[34m_posts\u001b[m\u001b[m         about.md       \u001b[34mimages\u001b[m\u001b[m         \u001b[31mstyle.scss\u001b[m\u001b[m\r\n"
     ]
    }
   ],
   "source": [
    "!ls\n"
   ]
  },
  {
   "cell_type": "code",
   "execution_count": 3,
   "metadata": {
    "collapsed": false
   },
   "outputs": [
    {
     "name": "stdout",
     "output_type": "stream",
     "text": [
      "404.md             README.md          _config.yml~       \u001b[34m_posts\u001b[m\u001b[m             feed.xml           shiny_new_file.txt\r\n",
      "CNAME              Untitled.ipynb     \u001b[34m_includes\u001b[m\u001b[m          \u001b[34m_sass\u001b[m\u001b[m              \u001b[34mimages\u001b[m\u001b[m             \u001b[31mstyle.scss\u001b[m\u001b[m\r\n",
      "LICENSE            _config.yml        \u001b[34m_layouts\u001b[m\u001b[m           about.md           index.html\r\n"
     ]
    }
   ],
   "source": [
    "toy_file =open(\"shiny_new_file.txt\", \"w\")\n",
    "toy_file.write(\"hey guys \\n\")\n",
    "toy_file.write(\"what's up \\n\")\n",
    "toy_file.close()\n",
    "!ls"
   ]
  },
  {
   "cell_type": "code",
   "execution_count": 6,
   "metadata": {
    "collapsed": false
   },
   "outputs": [
    {
     "name": "stdout",
     "output_type": "stream",
     "text": [
      "404.md              README.md           _config.yml~        \u001b[34m_posts\u001b[m\u001b[m              even_newer_file.txt index.html\r\n",
      "CNAME               Untitled.ipynb      \u001b[34m_includes\u001b[m\u001b[m           \u001b[34m_sass\u001b[m\u001b[m               feed.xml            shiny_new_file.txt\r\n",
      "LICENSE             _config.yml         \u001b[34m_layouts\u001b[m\u001b[m            about.md            \u001b[34mimages\u001b[m\u001b[m              \u001b[31mstyle.scss\u001b[m\u001b[m\r\n"
     ]
    }
   ],
   "source": [
    "our_file=open(\"shiny_new_file.txt\", \"r\")\n",
    "new_file=open(\"even_newer_file.txt\",\"w\")\n",
    "new_file.write(our_file.read())\n",
    "our_file.close()\n",
    "new_file.close()\n",
    "!ls"
   ]
  },
  {
   "cell_type": "code",
   "execution_count": 7,
   "metadata": {
    "collapsed": false
   },
   "outputs": [
    {
     "name": "stdout",
     "output_type": "stream",
     "text": [
      "hey guys \r\n",
      "what's up \r\n"
     ]
    }
   ],
   "source": [
    "!cat even_newer_file.txt"
   ]
  },
  {
   "cell_type": "code",
   "execution_count": 9,
   "metadata": {
    "collapsed": false
   },
   "outputs": [
    {
     "name": "stdout",
     "output_type": "stream",
     "text": [
      "404.md              README.md           _config.yml~        \u001b[34m_posts\u001b[m\u001b[m              even_newer_file.txt index.html          \u001b[31mstyle.scss\u001b[m\u001b[m\r\n",
      "CNAME               Untitled.ipynb      \u001b[34m_includes\u001b[m\u001b[m           \u001b[34m_sass\u001b[m\u001b[m               feed.xml            shiny_new_file.txt\r\n",
      "LICENSE             _config.yml         \u001b[34m_layouts\u001b[m\u001b[m            about.md            \u001b[34mimages\u001b[m\u001b[m              star_wars_image.jpg\r\n"
     ]
    }
   ],
   "source": [
    "import urllib2\n",
    "online_image_file=urllib2.urlopen(\"http://i.kinja-img.com/gawker-media/image/upload/s--lcZ52NA8--/19c0uzmi9bmv1jpg.jpg\")\n",
    "local_file=open('star_wars_image.jpg',\"w\")\n",
    "local_file.write(online_image_file.read())\n",
    "local_file.close()\n",
    "online_image_file.close()\n",
    "!ls"
   ]
  },
  {
   "cell_type": "code",
   "execution_count": 10,
   "metadata": {
    "collapsed": false
   },
   "outputs": [
    {
     "name": "stdout",
     "output_type": "stream",
     "text": [
      "  % Total    % Received % Xferd  Average Speed   Time    Time     Time  Current\n",
      "                                 Dload  Upload   Total   Spent    Left  Speed\n",
      "100  557k  100  557k    0     0  3970k      0 --:--:-- --:--:-- --:--:-- 4358k\n"
     ]
    }
   ],
   "source": [
    "!curl http://i.kinja-img.com/gawker-media/image/upload/s--lcZ52NA8--/19c0uzmi9bmv1jpg.jpg >star_wars_image_curl.jpg"
   ]
  },
  {
   "cell_type": "code",
   "execution_count": 11,
   "metadata": {
    "collapsed": false
   },
   "outputs": [
    {
     "name": "stdout",
     "output_type": "stream",
     "text": [
      "404.md                   Untitled.ipynb           \u001b[34m_layouts\u001b[m\u001b[m                 even_newer_file.txt      shiny_new_file.txt\r\n",
      "CNAME                    _config.yml              \u001b[34m_posts\u001b[m\u001b[m                   feed.xml                 star_wars_image.jpg\r\n",
      "LICENSE                  _config.yml~             \u001b[34m_sass\u001b[m\u001b[m                    \u001b[34mimages\u001b[m\u001b[m                   star_wars_image_curl.jpg\r\n",
      "README.md                \u001b[34m_includes\u001b[m\u001b[m                about.md                 index.html               \u001b[31mstyle.scss\u001b[m\u001b[m\r\n"
     ]
    }
   ],
   "source": [
    "!ls\n",
    "!open star_wars_image.jpg"
   ]
  },
  {
   "cell_type": "code",
   "execution_count": 21,
   "metadata": {
    "collapsed": false
   },
   "outputs": [
    {
     "name": "stdout",
     "output_type": "stream",
     "text": [
      "3+7 =10.4"
     ]
    }
   ],
   "source": [
    "Bo_super_math= 3+7.4\n",
    "with open(\"super_math_results.txt\",\"w\") as results:\n",
    "    results.write(\"3+7 =\")\n",
    "    results.write(str(Bo_super_math))\n",
    "!cat super_math_results.txt"
   ]
  },
  {
   "cell_type": "code",
   "execution_count": 18,
   "metadata": {
    "collapsed": false
   },
   "outputs": [
    {
     "name": "stdout",
     "output_type": "stream",
     "text": [
      "Bo,is,awesome\r",
      "\r\n",
      "Aaron,is,awesome\r",
      "\r\n"
     ]
    }
   ],
   "source": [
    "import csv\n",
    "with open(\"new_csv_toy.csv\",'w') as csv_output:\n",
    "    writer =csv.writer(csv_output)\n",
    "    row1=[\"Bo\",\"is\",\"awesome\"]\n",
    "    row2=[\"Aaron\",\"is\",\"awesome\"]\n",
    "    writer.writerow(row1)\n",
    "    writer.writerow(row2)\n",
    "    \n",
    "!cat new_csv_toy.csv"
   ]
  },
  {
   "cell_type": "code",
   "execution_count": 22,
   "metadata": {
    "collapsed": false
   },
   "outputs": [
    {
     "name": "stdout",
     "output_type": "stream",
     "text": [
      "--2015-04-07 11:22:03--  http://web.mta.info/developers/data/nyct/turnstile/turnstile_150404.txt\n",
      "Resolving web.mta.info... 63.88.100.208, 63.88.100.184\n",
      "Connecting to web.mta.info|63.88.100.208|:80... connected.\n",
      "HTTP request sent, awaiting response... 200 OK\n",
      "Length: unspecified [text/plain]\n",
      "Saving to: 'turnstile_150404.txt'\n",
      "\n",
      "turnstile_150404.tx     [                 <=>  ]  23.91M  1.69MB/s   in 12s    \n",
      "\n",
      "2015-04-07 11:22:16 (2.05 MB/s) - 'turnstile_150404.txt' saved [25071566]\n",
      "\n"
     ]
    }
   ],
   "source": [
    "!wget http://web.mta.info/developers/data/nyct/turnstile/turnstile_150404.txt"
   ]
  },
  {
   "cell_type": "code",
   "execution_count": 23,
   "metadata": {
    "collapsed": false
   },
   "outputs": [
    {
     "name": "stdout",
     "output_type": "stream",
     "text": [
      "404.md                   Untitled.ipynb           \u001b[34m_layouts\u001b[m\u001b[m                 even_newer_file.txt      new_csv_toy.csv          \u001b[31mstyle.scss\u001b[m\u001b[m\r\n",
      "CNAME                    _config.yml              \u001b[34m_posts\u001b[m\u001b[m                   feed.xml                 shiny_new_file.txt       super_math_results.txt\r\n",
      "LICENSE                  _config.yml~             \u001b[34m_sass\u001b[m\u001b[m                    \u001b[34mimages\u001b[m\u001b[m                   star_wars_image.jpg      turnstile_150404.txt\r\n",
      "README.md                \u001b[34m_includes\u001b[m\u001b[m                about.md                 index.html               star_wars_image_curl.jpg\r\n"
     ]
    }
   ],
   "source": [
    "!ls\n"
   ]
  },
  {
   "cell_type": "code",
   "execution_count": 24,
   "metadata": {
    "collapsed": false
   },
   "outputs": [
    {
     "name": "stdout",
     "output_type": "stream",
     "text": [
      "C/A,UNIT,SCP,STATION,LINENAME,DIVISION,DATE,TIME,DESC,ENTRIES,EXITS                                                               \r\n",
      "A002,R051,02-00-00,LEXINGTON AVE,NQR456,BMT,03/28/2015,00:00:00,REGULAR,0005065968,0001716046                                     \r\n",
      "A002,R051,02-00-00,LEXINGTON AVE,NQR456,BMT,03/28/2015,04:00:00,REGULAR,0005066006,0001716049                                     \r\n",
      "A002,R051,02-00-00,LEXINGTON AVE,NQR456,BMT,03/28/2015,08:00:00,REGULAR,0005066018,0001716072                                     \r\n",
      "A002,R051,02-00-00,LEXINGTON AVE,NQR456,BMT,03/28/2015,12:00:00,REGULAR,0005066153,0001716183                                     \r\n",
      "A002,R051,02-00-00,LEXINGTON AVE,NQR456,BMT,03/28/2015,16:00:00,REGULAR,0005066453,0001716263                                     \r\n",
      "A002,R051,02-00-00,LEXINGTON AVE,NQR456,BMT,03/28/2015,20:00:00,REGULAR,0005066883,0001716327                                     \r\n",
      "A002,R051,02-00-00,LEXINGTON AVE,NQR456,BMT,03/29/2015,00:00:00,REGULAR,0005067073,0001716368                                     \r\n",
      "A002,R051,02-00-00,LEXINGTON AVE,NQR456,BMT,03/29/2015,04:00:00,REGULAR,0005067111,0001716377                                     \r\n",
      "A002,R051,02-00-00,LEXINGTON AVE,NQR456,BMT,03/29/2015,08:00:00,REGULAR,0005067124,0001716394                                     \r\n"
     ]
    }
   ],
   "source": [
    "!head turnstile_150404.txt"
   ]
  },
  {
   "cell_type": "code",
   "execution_count": 28,
   "metadata": {
    "collapsed": false
   },
   "outputs": [
    {
     "name": "stdout",
     "output_type": "stream",
     "text": [
      "['A002', 'R051', '02-00-00', 'LEXINGTON AVE', 'NQR456', 'BMT', '03/28/2015', '00:00:00', 'REGULAR', '0005065968', '0001716046                                     ']\n",
      "['A002', 'R051', '02-00-00', 'LEXINGTON AVE', 'NQR456', 'BMT', '03/28/2015', '04:00:00', 'REGULAR', '0005066006', '0001716049                                     ']\n",
      "['A002', 'R051', '02-00-00', 'LEXINGTON AVE', 'NQR456', 'BMT', '03/28/2015', '08:00:00', 'REGULAR', '0005066018', '0001716072                                     ']\n",
      "['A002', 'R051', '02-00-00', 'LEXINGTON AVE', 'NQR456', 'BMT', '03/28/2015', '12:00:00', 'REGULAR', '0005066153', '0001716183                                     ']\n"
     ]
    }
   ],
   "source": [
    "LINE_NUM=3\n",
    "with open(\"turnstile_150404.txt\",\"r\") as turnstile_file:\n",
    "    reader = csv.reader(turnstile_file)\n",
    "    reader.next()\n",
    "    for index, row in enumerate(reader):\n",
    "        print row\n",
    "        if index ==LINE_NUM:\n",
    "            break"
   ]
  },
  {
   "cell_type": "code",
   "execution_count": 36,
   "metadata": {
    "collapsed": false
   },
   "outputs": [
    {
     "ename": "IndentationError",
     "evalue": "unindent does not match any outer indentation level (<ipython-input-36-29140d7b9638>, line 18)",
     "output_type": "error",
     "traceback": [
      "\u001b[0;36m  File \u001b[0;32m\"<ipython-input-36-29140d7b9638>\"\u001b[0;36m, line \u001b[0;32m18\u001b[0m\n\u001b[0;31m    three_rows.close()\u001b[0m\n\u001b[0m                      ^\u001b[0m\n\u001b[0;31mIndentationError\u001b[0m\u001b[0;31m:\u001b[0m unindent does not match any outer indentation level\n"
     ]
    }
   ],
   "source": [
    "import sys\n",
    "with open(\"turnstile_150404.txt\",\"r\") as turnstile_file:\n",
    "    reader = csv.reader(turnstile_file)\n",
    "    three_rows=open(\"three_rows.txt\",\"w\")\n",
    "    writer = csv.writer(three_rows)\n",
    "    \n",
    "    for num, row in enumerate(reader):\n",
    "        try:\n",
    "            if num==3:\n",
    "                break\n",
    "                print \"I am processing row %i\" %num\n",
    "                #some fancy processing goes here..\n",
    "                writer.writerow(row)\n",
    "            if num==2:\n",
    "                my_value=row/2 #this doesn't work\n",
    "        except:\n",
    "                print>>sys.stderr,\"oh noews, row %i failed\" %num\n",
    " three_rows.close()\n",
    "          "
   ]
  },
  {
   "cell_type": "code",
   "execution_count": null,
   "metadata": {
    "collapsed": true
   },
   "outputs": [],
   "source": []
  }
 ],
 "metadata": {
  "kernelspec": {
   "display_name": "Python 2",
   "language": "python",
   "name": "python2"
  },
  "language_info": {
   "codemirror_mode": {
    "name": "ipython",
    "version": 2
   },
   "file_extension": ".py",
   "mimetype": "text/x-python",
   "name": "python",
   "nbconvert_exporter": "python",
   "pygments_lexer": "ipython2",
   "version": "2.7.9"
  }
 },
 "nbformat": 4,
 "nbformat_minor": 0
}
